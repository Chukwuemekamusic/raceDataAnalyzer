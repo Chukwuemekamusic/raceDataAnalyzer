{
 "cells": [
  {
   "cell_type": "code",
   "execution_count": 50,
   "id": "2c0c9ba5-69d8-4e42-acf6-c7bb3bfd9b20",
   "metadata": {},
   "outputs": [],
   "source": [
    "import pandas as pd\n",
    "import seaborn as sns\n",
    "import matplotlib.pyplot as plt"
   ]
  },
  {
   "cell_type": "code",
   "execution_count": 51,
   "id": "66f7de67",
   "metadata": {},
   "outputs": [
    {
     "name": "stderr",
     "output_type": "stream",
     "text": [
      "/var/folders/sr/nz5_1_hn7yv_fnd0skdykh9m0000gn/T/ipykernel_36731/2397623457.py:1: DtypeWarning: Columns (11) have mixed types. Specify dtype option on import or set low_memory=False.\n",
      "  df = pd.read_csv('archive/TWO_CENTURIES_OF_UM_RACES.csv')\n"
     ]
    },
    {
     "data": {
      "text/html": [
       "<div>\n",
       "<style scoped>\n",
       "    .dataframe tbody tr th:only-of-type {\n",
       "        vertical-align: middle;\n",
       "    }\n",
       "\n",
       "    .dataframe tbody tr th {\n",
       "        vertical-align: top;\n",
       "    }\n",
       "\n",
       "    .dataframe thead th {\n",
       "        text-align: right;\n",
       "    }\n",
       "</style>\n",
       "<table border=\"1\" class=\"dataframe\">\n",
       "  <thead>\n",
       "    <tr style=\"text-align: right;\">\n",
       "      <th></th>\n",
       "      <th>Year of event</th>\n",
       "      <th>Event dates</th>\n",
       "      <th>Event name</th>\n",
       "      <th>Event distance/length</th>\n",
       "      <th>Event number of finishers</th>\n",
       "      <th>Athlete performance</th>\n",
       "      <th>Athlete club</th>\n",
       "      <th>Athlete country</th>\n",
       "      <th>Athlete year of birth</th>\n",
       "      <th>Athlete gender</th>\n",
       "      <th>Athlete age category</th>\n",
       "      <th>Athlete average speed</th>\n",
       "      <th>Athlete ID</th>\n",
       "    </tr>\n",
       "  </thead>\n",
       "  <tbody>\n",
       "    <tr>\n",
       "      <th>0</th>\n",
       "      <td>2018</td>\n",
       "      <td>06.01.2018</td>\n",
       "      <td>Selva Costera (CHI)</td>\n",
       "      <td>50km</td>\n",
       "      <td>22</td>\n",
       "      <td>4:51:39 h</td>\n",
       "      <td>Tnfrc</td>\n",
       "      <td>CHI</td>\n",
       "      <td>1978.0</td>\n",
       "      <td>M</td>\n",
       "      <td>M35</td>\n",
       "      <td>10.286</td>\n",
       "      <td>0</td>\n",
       "    </tr>\n",
       "    <tr>\n",
       "      <th>1</th>\n",
       "      <td>2018</td>\n",
       "      <td>06.01.2018</td>\n",
       "      <td>Selva Costera (CHI)</td>\n",
       "      <td>50km</td>\n",
       "      <td>22</td>\n",
       "      <td>5:15:45 h</td>\n",
       "      <td>Roberto Echeverría</td>\n",
       "      <td>CHI</td>\n",
       "      <td>1981.0</td>\n",
       "      <td>M</td>\n",
       "      <td>M35</td>\n",
       "      <td>9.501</td>\n",
       "      <td>1</td>\n",
       "    </tr>\n",
       "    <tr>\n",
       "      <th>2</th>\n",
       "      <td>2018</td>\n",
       "      <td>06.01.2018</td>\n",
       "      <td>Selva Costera (CHI)</td>\n",
       "      <td>50km</td>\n",
       "      <td>22</td>\n",
       "      <td>5:16:44 h</td>\n",
       "      <td>Puro Trail Osorno</td>\n",
       "      <td>CHI</td>\n",
       "      <td>1987.0</td>\n",
       "      <td>M</td>\n",
       "      <td>M23</td>\n",
       "      <td>9.472</td>\n",
       "      <td>2</td>\n",
       "    </tr>\n",
       "    <tr>\n",
       "      <th>3</th>\n",
       "      <td>2018</td>\n",
       "      <td>06.01.2018</td>\n",
       "      <td>Selva Costera (CHI)</td>\n",
       "      <td>50km</td>\n",
       "      <td>22</td>\n",
       "      <td>5:34:13 h</td>\n",
       "      <td>Columbia</td>\n",
       "      <td>ARG</td>\n",
       "      <td>1976.0</td>\n",
       "      <td>M</td>\n",
       "      <td>M40</td>\n",
       "      <td>8.976</td>\n",
       "      <td>3</td>\n",
       "    </tr>\n",
       "    <tr>\n",
       "      <th>4</th>\n",
       "      <td>2018</td>\n",
       "      <td>06.01.2018</td>\n",
       "      <td>Selva Costera (CHI)</td>\n",
       "      <td>50km</td>\n",
       "      <td>22</td>\n",
       "      <td>5:54:14 h</td>\n",
       "      <td>Baguales Trail</td>\n",
       "      <td>CHI</td>\n",
       "      <td>1992.0</td>\n",
       "      <td>M</td>\n",
       "      <td>M23</td>\n",
       "      <td>8.469</td>\n",
       "      <td>4</td>\n",
       "    </tr>\n",
       "  </tbody>\n",
       "</table>\n",
       "</div>"
      ],
      "text/plain": [
       "   Year of event Event dates           Event name Event distance/length  \\\n",
       "0           2018  06.01.2018  Selva Costera (CHI)                  50km   \n",
       "1           2018  06.01.2018  Selva Costera (CHI)                  50km   \n",
       "2           2018  06.01.2018  Selva Costera (CHI)                  50km   \n",
       "3           2018  06.01.2018  Selva Costera (CHI)                  50km   \n",
       "4           2018  06.01.2018  Selva Costera (CHI)                  50km   \n",
       "\n",
       "   Event number of finishers Athlete performance        Athlete club  \\\n",
       "0                         22           4:51:39 h               Tnfrc   \n",
       "1                         22           5:15:45 h  Roberto Echeverría   \n",
       "2                         22           5:16:44 h   Puro Trail Osorno   \n",
       "3                         22           5:34:13 h            Columbia   \n",
       "4                         22           5:54:14 h      Baguales Trail   \n",
       "\n",
       "  Athlete country  Athlete year of birth Athlete gender Athlete age category  \\\n",
       "0             CHI                 1978.0              M                  M35   \n",
       "1             CHI                 1981.0              M                  M35   \n",
       "2             CHI                 1987.0              M                  M23   \n",
       "3             ARG                 1976.0              M                  M40   \n",
       "4             CHI                 1992.0              M                  M23   \n",
       "\n",
       "  Athlete average speed  Athlete ID  \n",
       "0                10.286           0  \n",
       "1                 9.501           1  \n",
       "2                 9.472           2  \n",
       "3                 8.976           3  \n",
       "4                 8.469           4  "
      ]
     },
     "execution_count": 51,
     "metadata": {},
     "output_type": "execute_result"
    }
   ],
   "source": [
    "df = pd.read_csv('archive/TWO_CENTURIES_OF_UM_RACES.csv')\n",
    "\n",
    "df.head()"
   ]
  },
  {
   "cell_type": "code",
   "execution_count": 52,
   "id": "20d340ef",
   "metadata": {},
   "outputs": [
    {
     "data": {
      "text/plain": [
       "(7461195, 13)"
      ]
     },
     "execution_count": 52,
     "metadata": {},
     "output_type": "execute_result"
    }
   ],
   "source": [
    "df.shape\n"
   ]
  },
  {
   "cell_type": "code",
   "execution_count": 53,
   "id": "b264701f-399f-44b2-aa9e-80ca9d8501e5",
   "metadata": {},
   "outputs": [
    {
     "data": {
      "text/plain": [
       "Year of event                  int64\n",
       "Event dates                   object\n",
       "Event name                    object\n",
       "Event distance/length         object\n",
       "Event number of finishers      int64\n",
       "Athlete performance           object\n",
       "Athlete club                  object\n",
       "Athlete country               object\n",
       "Athlete year of birth        float64\n",
       "Athlete gender                object\n",
       "Athlete age category          object\n",
       "Athlete average speed         object\n",
       "Athlete ID                     int64\n",
       "dtype: object"
      ]
     },
     "execution_count": 53,
     "metadata": {},
     "output_type": "execute_result"
    }
   ],
   "source": [
    "df.dtypes\n"
   ]
  },
  {
   "cell_type": "markdown",
   "id": "b1174794-8bca-4783-9349-e942d21a094f",
   "metadata": {},
   "source": [
    "# clean up\n",
    "- only want \"USA\" races,\n",
    "- 50km "
   ]
  },
  {
   "cell_type": "code",
   "execution_count": 54,
   "id": "933a1199-ce42-4be9-ab45-c190b04a57fe",
   "metadata": {},
   "outputs": [
    {
     "data": {
      "text/plain": [
       "Event distance/length\n",
       "50km                1522609\n",
       "50mi                 352181\n",
       "50.3km                 3021\n",
       "50.4km                 2189\n",
       "50.1km                 1896\n",
       "50.5km                 1781\n",
       "50.7km                 1030\n",
       "500km                   839\n",
       "50h                     735\n",
       "50.2km                  675\n",
       "50.8km                  640\n",
       "50.9km                  585\n",
       "50.6km                  451\n",
       "50.4mi                  297\n",
       "50km                    263\n",
       "50.0km                  204\n",
       "50.5mi                  198\n",
       "50.9mi                  165\n",
       "50.74km                 164\n",
       "50.6mi                  139\n",
       "50miles                 130\n",
       "50Km                    124\n",
       "50.69km                  86\n",
       "503km                    70\n",
       "50Miles                  68\n",
       "50.8mi                   61\n",
       "50K                      52\n",
       "50.9 mi                  51\n",
       "50mi+                    34\n",
       "50Mile                   32\n",
       "50.7mi                   26\n",
       "503km/7Etappen           25\n",
       "500km/8Etappen           23\n",
       "5036km/64Etappen         21\n",
       "500km/7Etappen           16\n",
       "50.3mi                   13\n",
       "500km/10Etappen           8\n",
       "500mi                     5\n",
       "5000km                    4\n",
       "505km                     1\n",
       "5061km/68stages           1\n",
       "504km/7Etappen            1\n",
       "504km                     1\n",
       "Name: count, dtype: int64"
      ]
     },
     "execution_count": 54,
     "metadata": {},
     "output_type": "execute_result"
    }
   ],
   "source": [
    "# this allows us see all the possible numbers starting with 50\n",
    "filt = df['Event distance/length'].str.startswith('50', na=False)\n",
    "df[filt]['Event distance/length'].value_counts()"
   ]
  },
  {
   "cell_type": "code",
   "execution_count": 55,
   "id": "629d1b08-5702-4538-a186-4fa94f1721e8",
   "metadata": {},
   "outputs": [
    {
     "data": {
      "text/plain": [
       "1522609"
      ]
     },
     "execution_count": 55,
     "metadata": {},
     "output_type": "execute_result"
    }
   ],
   "source": [
    "len(df[filt2])"
   ]
  },
  {
   "cell_type": "code",
   "execution_count": 56,
   "id": "cda8fb06-5d70-43fe-9351-2ec373630f6a",
   "metadata": {},
   "outputs": [
    {
     "name": "stderr",
     "output_type": "stream",
     "text": [
      "/var/folders/sr/nz5_1_hn7yv_fnd0skdykh9m0000gn/T/ipykernel_36731/3938797249.py:3: UserWarning: This pattern is interpreted as a regular expression, and has match groups. To actually get the groups, use str.extract.\n",
      "  filt = df['Event distance/length'].str.contains(pattern, case=False, regex=True, na=False)\n"
     ]
    },
    {
     "data": {
      "text/plain": [
       "(array(['50km', '50mi', '50K', '50Km', '50.0km', '50Mile', '50Miles',\n",
       "        '50miles'], dtype=object),\n",
       " 1875400)"
      ]
     },
     "execution_count": 56,
     "metadata": {},
     "output_type": "execute_result"
    }
   ],
   "source": [
    "pattern = r'^(50(\\.0)?(km|mi|mile|miles|k|K))$'\n",
    "# Apply the filter: Case-insensitive matching\n",
    "filt = df['Event distance/length'].str.contains(pattern, case=False, regex=True, na=False)\n",
    "df[filt]['Event distance/length'].unique(), len(df[filt])"
   ]
  },
  {
   "cell_type": "code",
   "execution_count": 57,
   "id": "c4830e83-0547-4824-a83e-60cb19e4e0fa",
   "metadata": {},
   "outputs": [],
   "source": [
    "year_filt = df[\"Year of event\"] == 2020\n",
    "country_filt = df[\"Event name\"].str.contains(r'\\(USA\\)')\n",
    "f_df = df[filt & year_filt & country_filt]"
   ]
  },
  {
   "cell_type": "code",
   "execution_count": 58,
   "id": "8a0288ef-8f01-45bb-bbc8-0a96f384dd23",
   "metadata": {},
   "outputs": [
    {
     "name": "stderr",
     "output_type": "stream",
     "text": [
      "/var/folders/sr/nz5_1_hn7yv_fnd0skdykh9m0000gn/T/ipykernel_36731/3329692599.py:2: SettingWithCopyWarning: \n",
      "A value is trying to be set on a copy of a slice from a DataFrame.\n",
      "Try using .loc[row_indexer,col_indexer] = value instead\n",
      "\n",
      "See the caveats in the documentation: https://pandas.pydata.org/pandas-docs/stable/user_guide/indexing.html#returning-a-view-versus-a-copy\n",
      "  f_df['Event name'] = f_df['Event name'].str.split('(').str.get(0)\n"
     ]
    }
   ],
   "source": [
    "# remove (USA) from Event name\n",
    "f_df['Event name'] = f_df['Event name'].str.split('(').str.get(0)"
   ]
  },
  {
   "cell_type": "code",
   "execution_count": null,
   "id": "5604f772-e92d-4325-8cb4-1aba0a95d395",
   "metadata": {},
   "outputs": [],
   "source": []
  }
 ],
 "metadata": {
  "kernelspec": {
   "display_name": "Python 3 (ipykernel)",
   "language": "python",
   "name": "python3"
  },
  "language_info": {
   "codemirror_mode": {
    "name": "ipython",
    "version": 3
   },
   "file_extension": ".py",
   "mimetype": "text/x-python",
   "name": "python",
   "nbconvert_exporter": "python",
   "pygments_lexer": "ipython3",
   "version": "3.12.6"
  }
 },
 "nbformat": 4,
 "nbformat_minor": 5
}
